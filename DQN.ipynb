{
 "cells": [
  {
   "cell_type": "code",
   "execution_count": 1,
   "metadata": {},
   "outputs": [],
   "source": [
    "import gym\n",
    "import numpy as np\n",
    "import matplotlib.pyplot as plt\n",
    "\n",
    "%matplotlib inline"
   ]
  },
  {
   "cell_type": "code",
   "execution_count": 2,
   "metadata": {},
   "outputs": [
    {
     "data": {
      "text/plain": [
       "<TimeLimit<CartPoleEnv<CartPole-v1>>>"
      ]
     },
     "execution_count": 2,
     "metadata": {},
     "output_type": "execute_result"
    }
   ],
   "source": [
    "env = gym.make('CartPole-v1')\n",
    "env"
   ]
  },
  {
   "cell_type": "markdown",
   "metadata": {},
   "source": [
    "# Cart Pole random agent\n",
    "Agent takes random action untill the end of episode.\n",
    "It's made to test that everything is in place"
   ]
  },
  {
   "cell_type": "code",
   "execution_count": 3,
   "metadata": {},
   "outputs": [],
   "source": [
    "state, done = env.reset(), False\n",
    "\n",
    "while not done:\n",
    "    state, reward, done, info = env.step(np.random.randint(env.action_space.n))\n",
    "    env.render()\n",
    "\n",
    "env.close()"
   ]
  },
  {
   "cell_type": "markdown",
   "metadata": {},
   "source": [
    "# DQN - Deep Q Network\n",
    "DQN is one of the first successful attempts to apply deep neural networks in reinforcment learning.\n",
    "It still looks like a Q-learning\n",
    "\n",
    "$ Q(s_i, a_i) = Q(s_i, a_i) + \\alpha * (r_i + \\gamma * max_a * Q(s_{i+1}, a) - Q(s_i, a_i)) $\n",
    "\n",
    "Where \n",
    "- $ s_i $ is current state\n",
    "- $ a_i $ is taken action\n",
    "- $ s_{i+1} $ is next state\n",
    "- $ \\alpha $ is learning rate\n",
    "- $ \\gamma $ is discount factor\n",
    "\n",
    "## Main DQN components\n",
    "\n",
    "### Replay Buffer\n",
    "To store experiences\n",
    "\n",
    "### Neural Network\n",
    "Used for **target** and **online** models\n"
   ]
  },
  {
   "cell_type": "code",
   "execution_count": 4,
   "metadata": {},
   "outputs": [
    {
     "data": {
      "text/plain": [
       "Net(\n",
       "  (fc1): Linear(in_features=4, out_features=512, bias=True)\n",
       "  (fc2): Linear(in_features=512, out_features=128, bias=True)\n",
       "  (fc3): Linear(in_features=128, out_features=2, bias=True)\n",
       ")"
      ]
     },
     "execution_count": 4,
     "metadata": {},
     "output_type": "execute_result"
    }
   ],
   "source": [
    "import torch\n",
    "from torch import nn\n",
    "import torch.nn.functional as f\n",
    "\n",
    "class Net(nn.Module):\n",
    "\n",
    "    def __init__(self, inputs, outputs, device='cpu'):\n",
    "        super(Net, self).__init__()\n",
    "        self.fc1 = nn.Linear(inputs, 512)\n",
    "        self.fc2 = nn.Linear(512, 128)\n",
    "        self.fc3 = nn.Linear(128, outputs)\n",
    "        self.device = torch.device(device)\n",
    "        self.to(self.device)\n",
    "        \n",
    "    def forward(self, X):\n",
    "        x = self._move(X)\n",
    "        x = f.relu(self.fc1(x))\n",
    "        x = f.relu(self.fc2(x))\n",
    "        return self.fc3(x)\n",
    "    \n",
    "    def _move(self, X):\n",
    "        x = X\n",
    "        if not isinstance(x, torch.Tensor):\n",
    "            x = torch.tensor(x, \n",
    "                             device=self.device, \n",
    "                             dtype=torch.float32)\n",
    "            x = x.unsqueeze(0)\n",
    "        return x\n",
    "    \n",
    "    def load(self, experiences):\n",
    "        states, actions, next_states, rewards, failied = experiences\n",
    "        states = torch.from_numpy(states).float().to(self.device)\n",
    "        actions = torch.from_numpy(actions).long().to(self.device)\n",
    "        next_states = torch.from_numpy(next_states).float().to(self.device)\n",
    "        rewards = torch.from_numpy(rewards).float().to(self.device)\n",
    "        failied = torch.from_numpy(failied).float().to(self.device)\n",
    "        return states, actions, next_states, rewards, failied\n",
    "    \n",
    "net = Net(env.observation_space.shape[0], env.action_space.n)\n",
    "net"
   ]
  },
  {
   "cell_type": "code",
   "execution_count": 5,
   "metadata": {},
   "outputs": [
    {
     "data": {
      "text/plain": [
       "ReplayBuffer(len=0, cap=50)"
      ]
     },
     "execution_count": 5,
     "metadata": {},
     "output_type": "execute_result"
    }
   ],
   "source": [
    "from collections import deque\n",
    "import random\n",
    "\n",
    "class ReplayBuffer:\n",
    "    \n",
    "    def __init__(self, cap=50):\n",
    "        self.cap = cap\n",
    "        self.buffer = deque([], maxlen=cap)\n",
    "        \n",
    "    def sample(self, batch_size):\n",
    "        states, actions, rewards, next_states, failures = zip(*random.sample(self.buffer, batch_size))\n",
    "        return np.vstack(states), np.vstack(actions), np.vstack(rewards), np.vstack(next_states), np.vstack(failures)\n",
    "    \n",
    "    def store(self, value):\n",
    "        self.buffer.append(value)\n",
    "        \n",
    "    def __len__(self):\n",
    "        return len(self.buffer)\n",
    "    \n",
    "    def __repr__(self):\n",
    "        return f'ReplayBuffer(len={len(self.buffer)}, cap={self.cap})'\n",
    "    \n",
    "buf = ReplayBuffer()\n",
    "buf"
   ]
  },
  {
   "cell_type": "code",
   "execution_count": 6,
   "metadata": {},
   "outputs": [],
   "source": [
    "from itertools import count\n",
    "import gc\n",
    "\n",
    "class Agent:\n",
    "    \n",
    "    def __init__(self, inputs, outputs, batch_size=256, buffer_size=10e3, device='cpu', decay=0.9995, eps_min=0.002, gamma=0.995, alpha=0.0026, lr=0.0026):\n",
    "        self.online_net = Net(inputs, outputs, device=device)\n",
    "        self.target_net = Net(inputs, outputs, device=device)\n",
    "        self.rbuffer = ReplayBuffer(cap=int(buffer_size))\n",
    "        self.batch_size = batch_size\n",
    "        self.step_n = 0\n",
    "        self.epsilon = 1.0\n",
    "        self.decay = decay\n",
    "        self.eps_min = eps_min\n",
    "        self.gamma = gamma\n",
    "        self.lr = lr\n",
    "        self.rewards = deque([], maxlen=100)\n",
    "        self.last_best_reward = -np.inf\n",
    "        self.mean_rewards, self.loss_hist, self.td_error_hist = [], [], []\n",
    "        \n",
    "    @torch.no_grad()\n",
    "    def select_action(self, model, state, greedy=False):\n",
    "#         with torch.no_grad():\n",
    "        qs = model(state).cpu().detach().data.numpy().squeeze()\n",
    "        if np.random.random() > self.epsilon or greedy:\n",
    "            action = np.argmax(qs)\n",
    "        else:\n",
    "            action = np.random.randint(len(qs))\n",
    "            \n",
    "        self.epsilon = max(self.epsilon * self.decay, self.eps_min)\n",
    "        return action\n",
    "        \n",
    "    def step(self, env, model, state, greedy=False):\n",
    "        action = self.select_action(model, state, greedy)\n",
    "        next_state, reward, done, info = env.step(action)\n",
    "        truncated = 'TimeLimit.truncated' in info and info['TimeLimit.truncated']\n",
    "        failed = float(done and not truncated)\n",
    "        self.rbuffer.store((state, action, reward, next_state, failed))\n",
    "        \n",
    "        self.step_n += 1\n",
    "        self.rewards[-1] += reward\n",
    "        return next_state, done\n",
    "        \n",
    "    def optimize(self, experiences):\n",
    "        states, actions, rewards, next_states, failures = experiences\n",
    "        \n",
    "        max_a = self.target_net(next_states).detach().max(1)[0].unsqueeze(1)\n",
    "        target_q = rewards + (self.gamma * max_a * (1 - failures))\n",
    "        \n",
    "        q = self.online_net(states).gather(1, actions)\n",
    "#         td_err = q - target_q\n",
    "#         loss = td_err.pow(2).mul(0.5).mean()\n",
    "        criterion = nn.SmoothL1Loss()\n",
    "        loss = criterion(q, target_q)\n",
    "        \n",
    "        self.optimizer.zero_grad()\n",
    "        loss.backward()\n",
    "        torch.nn.utils.clip_grad_norm_(self.online_net.parameters(), np.inf) # clip grad to inf TODO: provide real vals\n",
    "        self.optimizer.step()\n",
    "        \n",
    "        return 0, loss.cpu().detach().mean()\n",
    "        \n",
    "    def train(self, env, episodes=50, update_every=25, quit_at=475.0):\n",
    "        # RMSProp reached the goal in 890 episodes with seed 26\n",
    "        self.optimizer = torch.optim.Adam(self.online_net.parameters(), lr=self.lr)\n",
    "        eval_mean = -np.inf\n",
    "        for e in range(episodes):\n",
    "            state = env.reset()\n",
    "            self.rewards.append(0)\n",
    "            \n",
    "            for c in count():\n",
    "                state, done = self.step(env, self.online_net, state)\n",
    "                if done:\n",
    "                    gc.collect()\n",
    "                    break\n",
    "                    \n",
    "                if len(self.rbuffer) > self.batch_size:\n",
    "                    samples = self.rbuffer.sample(self.batch_size)\n",
    "                    samples = self.online_net.load(samples)\n",
    "                    td_err, loss = self.optimize(samples)\n",
    "                    \n",
    "                if c % 100 == 0:\n",
    "                    mean = np.mean(self.rewards)\n",
    "                    print(f'\\rMean reward {mean:.4f} at episode {e} epsilon {self.epsilon:.4f} buffer len {len(self.rbuffer)}; best {self.last_best_reward:.4f}; eval {eval_mean:.4f}\\t', end='')\n",
    "                    self.mean_rewards.append(mean)\n",
    "                    self.last_best_reward = mean if mean > self.last_best_reward else self.last_best_reward\n",
    "                    if len(self.rbuffer) > self.batch_size:\n",
    "                        self.loss_hist.append(loss)\n",
    "                        self.td_error_hist.append(td_err)\n",
    "                \n",
    "            if e % update_every == 0: # and len(self.mean_rewards) > 0 and self.mean_rewards[-1] >= self.last_best_reward: # Doesn't pull learning up\n",
    "                self.update()\n",
    "                \n",
    "            eval_mean = agent.evaluate(env, episodes=5, visualize=False)\n",
    "            if eval_mean >= quit_at:\n",
    "                print(f'\\nReached reward {quit_at} with mean value {eval_mean} at episode {e}')\n",
    "                break\n",
    "            \n",
    "                \n",
    "    @torch.no_grad()            \n",
    "    def evaluate(self, env, episodes=10, visualize=False):\n",
    "        total = []\n",
    "        for e in range(episodes):\n",
    "            self.rewards.append(0)\n",
    "            state = env.reset()\n",
    "            \n",
    "            for c in count():\n",
    "                state, done = self.step(env, self.target_net, state, greedy=True)\n",
    "                if visualize:\n",
    "                    env.render()\n",
    "                if done:\n",
    "                    break\n",
    "                    \n",
    "            episode_reward = self.rewards[-1]\n",
    "            total.append(episode_reward)\n",
    "            \n",
    "        env.close()\n",
    "        return np.mean(total)\n",
    "        \n",
    "    def reset(self):\n",
    "        self.rewards.clear()\n",
    "        self.last_best_reward = -np.inf\n",
    "        \n",
    "    def update(self):\n",
    "#         for target, online in zip(self.target_net.parameters(), \n",
    "#                                   self.online_net.parameters()):\n",
    "#             target.data.copy_(online.data)\n",
    "        self.target_net.load_state_dict(self.online_net.state_dict())"
   ]
  },
  {
   "cell_type": "code",
   "execution_count": 7,
   "metadata": {},
   "outputs": [
    {
     "name": "stdout",
     "output_type": "stream",
     "text": [
      "using cuda as device\n"
     ]
    }
   ],
   "source": [
    "device = \"cuda\" if torch.cuda.is_available() else \"cpu\"\n",
    "print(f'using {device} as device')\n",
    "nS = env.observation_space.shape[0]\n",
    "nA = env.action_space.n"
   ]
  },
  {
   "cell_type": "code",
   "execution_count": 8,
   "metadata": {
    "tags": []
   },
   "outputs": [
    {
     "name": "stdout",
     "output_type": "stream",
     "text": [
      "Mean reward 357.8500 at episode 82 epsilon 0.0020 buffer len 10000; best 356.8500; eval 470.6000\t\n",
      "Reached reward 475.0 with mean value 500.0 at episode 82\n"
     ]
    }
   ],
   "source": [
    "# setting seed for reproducibility\n",
    "SEED = 26\n",
    "torch.manual_seed(SEED)\n",
    "np.random.seed(SEED)\n",
    "random.seed(SEED)\n",
    "\n",
    "agent = Agent(nS, nA, device=device, buffer_size=10e3, batch_size=196, decay=0.9995, lr=0.0013)\n",
    "agent.train(env, episodes=1000, update_every=10)"
   ]
  },
  {
   "cell_type": "code",
   "execution_count": 9,
   "metadata": {},
   "outputs": [
    {
     "data": {
      "text/plain": [
       "[<matplotlib.lines.Line2D at 0x7f1145353710>]"
      ]
     },
     "execution_count": 9,
     "metadata": {},
     "output_type": "execute_result"
    },
    {
     "data": {
      "image/png": "[encoded data removed]",
      "text/plain": [
       "<Figure size 432x288 with 1 Axes>"
      ]
     },
     "metadata": {
      "needs_background": "light"
     },
     "output_type": "display_data"
    }
   ],
   "source": [
    "plt.title('Mean Rewards x100')\n",
    "plt.plot(agent.mean_rewards)"
   ]
  },
  {
   "cell_type": "code",
   "execution_count": 10,
   "metadata": {},
   "outputs": [
    {
     "data": {
      "text/plain": [
       "[<matplotlib.lines.Line2D at 0x7f101cd2ce48>]"
      ]
     },
     "execution_count": 10,
     "metadata": {},
     "output_type": "execute_result"
    },
    {
     "data": {
      "image/png": "[encoded data removed]",
      "text/plain": [
       "<Figure size 432x288 with 1 Axes>"
      ]
     },
     "metadata": {
      "needs_background": "light"
     },
     "output_type": "display_data"
    }
   ],
   "source": [
    "plt.title('Loss History x100')\n",
    "plt.plot(agent.loss_hist)"
   ]
  },
  {
   "cell_type": "code",
   "execution_count": 11,
   "metadata": {},
   "outputs": [
    {
     "data": {
      "text/plain": [
       "488.7"
      ]
     },
     "execution_count": 11,
     "metadata": {},
     "output_type": "execute_result"
    }
   ],
   "source": [
    "# agent.reset()\n",
    "agent.evaluate(env, visualize=True)"
   ]
  },
  {
   "cell_type": "code",
   "execution_count": null,
   "metadata": {},
   "outputs": [],
   "source": []
  }
 ],
 "metadata": {
  "kernelspec": {
   "display_name": "Python 3",
   "language": "python",
   "name": "python3"
  },
  "language_info": {
   "codemirror_mode": {
    "name": "ipython",
    "version": 3
   },
   "file_extension": ".py",
   "mimetype": "text/x-python",
   "name": "python",
   "nbconvert_exporter": "python",
   "pygments_lexer": "ipython3",
   "version": "3.6.13"
  }
 },
 "nbformat": 4,
 "nbformat_minor": 4
}
